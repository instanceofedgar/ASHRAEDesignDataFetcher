{
 "cells": [
  {
   "cell_type": "code",
   "execution_count": 4,
   "metadata": {},
   "outputs": [
    {
     "data": {
      "text/plain": [
       "{'heating_DB_99.6': -16.8, 'cooling_DB_0.4': 30.8}"
      ]
     },
     "execution_count": 4,
     "metadata": {},
     "output_type": "execute_result"
    }
   ],
   "source": [
    "from ashrae_design_data import fetch_ashrae_design_data\n",
    "from ashrae_design_data import ASHRAE_VERSION\n",
    "\n",
    "# INPUTS\n",
    "lat = 43.6658\n",
    "lng = -79.3953\n",
    "ashrae_version = ASHRAE_VERSION.v2021\n",
    "#\n",
    "\n",
    "design_data = fetch_ashrae_design_data(lat, lng, ashrae_version)\n",
    "design_data\n"
   ]
  }
 ],
 "metadata": {
  "kernelspec": {
   "display_name": "myenv",
   "language": "python",
   "name": "python3"
  },
  "language_info": {
   "codemirror_mode": {
    "name": "ipython",
    "version": 3
   },
   "file_extension": ".py",
   "mimetype": "text/x-python",
   "name": "python",
   "nbconvert_exporter": "python",
   "pygments_lexer": "ipython3",
   "version": "3.12.6"
  }
 },
 "nbformat": 4,
 "nbformat_minor": 2
}
